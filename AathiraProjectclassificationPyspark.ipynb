{
 "cells": [
  {
   "cell_type": "markdown",
   "metadata": {},
   "source": [
    "Importing Libariries to work on the project in pyspark"
   ]
  },
  {
   "cell_type": "markdown",
   "metadata": {},
   "source": [
    "Setting the Directory"
   ]
  },
  {
   "cell_type": "code",
   "execution_count": 1,
   "metadata": {},
   "outputs": [],
   "source": [
    "import os\n",
    "import sys\n",
    " \n",
    "os.environ[\"SPARK_HOME\"] = \"/usr/hdp/current/spark2-client\"\n",
    "os.environ[\"PYLIB\"] = os.environ[\"SPARK_HOME\"] + \"/python/lib\"\n",
    "# In below two lines, use /usr/bin/python2.7 if you want to use Python 2\n",
    "os.environ[\"PYSPARK_PYTHON\"] = \"/usr/local/anaconda/bin/python\" \n",
    "os.environ[\"PYSPARK_DRIVER_PYTHON\"] = \"/usr/local/anaconda/bin/python\"\n",
    "sys.path.insert(0, os.environ[\"PYLIB\"] +\"/py4j-0.10.4-src.zip\")\n",
    "sys.path.insert(0, os.environ[\"PYLIB\"] +\"/pyspark.zip\")"
   ]
  },
  {
   "cell_type": "code",
   "execution_count": 2,
   "metadata": {},
   "outputs": [],
   "source": [
    "from pyspark.sql import SparkSession\n",
    "spark = SparkSession.builder.getOrCreate()"
   ]
  },
  {
   "cell_type": "markdown",
   "metadata": {},
   "source": [
    "Loading the file to do  Modelling"
   ]
  },
  {
   "cell_type": "code",
   "execution_count": 3,
   "metadata": {},
   "outputs": [],
   "source": [
    "df = spark.read.csv('winequality-red.csv',header=True)"
   ]
  },
  {
   "cell_type": "markdown",
   "metadata": {},
   "source": [
    "Dataset Description\n",
    "\n",
    "The Wine Quality dataset contains information about various physicochemical properties of wines. e are going to download and load the dataset into Python and perform an initial analysis to disclose what is inside it. And applying some Machine learning algorithms.\n",
    "\n",
    "FEATURES DESCRIPTION\n",
    "\n",
    "Fixed acidity: It indicates the amount of tartaric acid in wine and is measured in g/dm3\n",
    "\n",
    "Volatile acidity: It indicates the amount of acetic acid in the wine. It is measured in g/dm3.\n",
    "\n",
    "Citric acid: It indicates the amount of citric acid in the wine. It is also measured in g/dm3\n",
    "\n",
    "Residual sugar: It indicates the amount of sugar left in the wine after the fermentation process is done. It is also measured in g/dm3\n",
    "\n",
    "Free sulfur dioxide: It measures the amount of sulfur dioxide (SO2) in free form. It is also measured in g/dm3\n",
    "\n",
    "Total sulfur dioxide: It measures the total amount of SO2 in the wine. This chemical works as an antioxidant and antimicrobial agent.\n",
    "\n",
    "Density: It indicates the density of the wine and is measured in g/dm3.\n",
    "\n",
    "pH: It indicates the pH value of the wine. The range of value is between 0 to 14.0, which indicates very high acidity, and 14 indicates basic acidity.\n",
    "\n",
    "Sulphates: It indicates the amount of potassium sulphate in the wine. It is also measured in g/dm3.\n",
    "\n",
    "Alcohol: It indicates the alcohol content in the wine.\n",
    "\n",
    "Quality: It indicates the quality of the wine, which is ranged from 1 to 10. Here, the higher the value is, the better the wine."
   ]
  },
  {
   "cell_type": "code",
   "execution_count": 4,
   "metadata": {},
   "outputs": [
    {
     "name": "stdout",
     "output_type": "stream",
     "text": [
      "+-------------+----------------+-----------+--------------+---------+-------------------+--------------------+-------+-----+---------+-------+-------+\n",
      "|fixed acidity|volatile acidity|citric acid|residual sugar|chlorides|free sulfur dioxide|total sulfur dioxide|density|   pH|sulphates|alcohol|quality|\n",
      "+-------------+----------------+-----------+--------------+---------+-------------------+--------------------+-------+-----+---------+-------+-------+\n",
      "|        7.400|           0.700|      0.000|         1.900|    0.076|             11.000|              34.000|  0.998|3.510|    0.560|  9.400|  5.000|\n",
      "|        7.800|           0.880|      0.000|         2.600|    0.098|             25.000|              67.000|  0.997|3.200|    0.680|  9.800|  5.000|\n",
      "|        7.800|           0.760|      0.040|         2.300|    0.092|             15.000|              54.000|  0.997|3.260|    0.650|  9.800|  5.000|\n",
      "|       11.200|           0.280|      0.560|         1.900|    0.075|             17.000|              60.000|  0.998|3.160|    0.580|  9.800|  6.000|\n",
      "|        7.400|           0.700|      0.000|         1.900|    0.076|             11.000|              34.000|  0.998|3.510|    0.560|  9.400|  5.000|\n",
      "|        7.400|           0.660|      0.000|         1.800|    0.075|             13.000|              40.000|  0.998|3.510|    0.560|  9.400|  5.000|\n",
      "|        7.900|           0.600|      0.060|         1.600|    0.069|             15.000|              59.000|  0.996|3.300|    0.460|  9.400|  5.000|\n",
      "|        7.300|           0.650|      0.000|         1.200|    0.065|             15.000|              21.000|  0.995|3.390|    0.470| 10.000|  7.000|\n",
      "|        7.800|           0.580|      0.020|         2.000|    0.073|              9.000|              18.000|  0.997|3.360|    0.570|  9.500|  7.000|\n",
      "|        7.500|           0.500|      0.360|         6.100|    0.071|             17.000|             102.000|  0.998|3.350|    0.800| 10.500|  5.000|\n",
      "|        6.700|           0.580|      0.080|         1.800|    0.097|             15.000|              65.000|  0.996|3.280|    0.540|  9.200|  5.000|\n",
      "|        7.500|           0.500|      0.360|         6.100|    0.071|             17.000|             102.000|  0.998|3.350|    0.800| 10.500|  5.000|\n",
      "|        5.600|           0.615|      0.000|         1.600|    0.089|             16.000|              59.000|  0.994|3.580|    0.520|  9.900|  5.000|\n",
      "|        7.800|           0.610|      0.290|         1.600|    0.114|              9.000|              29.000|  0.997|3.260|    1.560|  9.100|  5.000|\n",
      "|        8.900|           0.620|      0.180|         3.800|    0.176|             52.000|             145.000|  0.999|3.160|    0.880|  9.200|  5.000|\n",
      "|        8.900|           0.620|      0.190|         3.900|    0.170|             51.000|             148.000|  0.999|3.170|    0.930|  9.200|  5.000|\n",
      "|        8.500|           0.280|      0.560|         1.800|    0.092|             35.000|             103.000|  0.997|3.300|    0.750| 10.500|  7.000|\n",
      "|        8.100|           0.560|      0.280|         1.700|    0.368|             16.000|              56.000|  0.997|3.110|    1.280|  9.300|  5.000|\n",
      "|        7.400|           0.590|      0.080|         4.400|    0.086|              6.000|              29.000|  0.997|3.380|    0.500|  9.000|  4.000|\n",
      "|        7.900|           0.320|      0.510|         1.800|    0.341|             17.000|              56.000|  0.997|3.040|    1.080|  9.200|  6.000|\n",
      "+-------------+----------------+-----------+--------------+---------+-------------------+--------------------+-------+-----+---------+-------+-------+\n",
      "only showing top 20 rows\n",
      "\n"
     ]
    }
   ],
   "source": [
    "df.show()"
   ]
  },
  {
   "cell_type": "markdown",
   "metadata": {},
   "source": [
    "Checking for null values"
   ]
  },
  {
   "cell_type": "code",
   "execution_count": 5,
   "metadata": {},
   "outputs": [
    {
     "name": "stdout",
     "output_type": "stream",
     "text": [
      "no. of cells in column fixed acidity with null values: 0\n",
      "no. of cells in column volatile acidity with null values: 0\n",
      "no. of cells in column citric acid with null values: 0\n",
      "no. of cells in column residual sugar with null values: 0\n",
      "no. of cells in column chlorides with null values: 0\n",
      "no. of cells in column free sulfur dioxide with null values: 0\n",
      "no. of cells in column total sulfur dioxide with null values: 0\n",
      "no. of cells in column density with null values: 0\n",
      "no. of cells in column pH with null values: 0\n",
      "no. of cells in column sulphates with null values: 0\n",
      "no. of cells in column alcohol with null values: 0\n",
      "no. of cells in column quality with null values: 0\n"
     ]
    }
   ],
   "source": [
    "for col in df.columns:\n",
    "    print(\"no. of cells in column\", col, \"with null values:\", df.filter(df[col].isNull()).count())"
   ]
  },
  {
   "cell_type": "markdown",
   "metadata": {},
   "source": [
    "No null values in the dataset"
   ]
  },
  {
   "cell_type": "code",
   "execution_count": 6,
   "metadata": {},
   "outputs": [
    {
     "data": {
      "text/html": [
       "<div>\n",
       "<style scoped>\n",
       "    .dataframe tbody tr th:only-of-type {\n",
       "        vertical-align: middle;\n",
       "    }\n",
       "\n",
       "    .dataframe tbody tr th {\n",
       "        vertical-align: top;\n",
       "    }\n",
       "\n",
       "    .dataframe thead th {\n",
       "        text-align: right;\n",
       "    }\n",
       "</style>\n",
       "<table border=\"1\" class=\"dataframe\">\n",
       "  <thead>\n",
       "    <tr style=\"text-align: right;\">\n",
       "      <th></th>\n",
       "      <th>0</th>\n",
       "      <th>1</th>\n",
       "      <th>2</th>\n",
       "      <th>3</th>\n",
       "      <th>4</th>\n",
       "    </tr>\n",
       "  </thead>\n",
       "  <tbody>\n",
       "    <tr>\n",
       "      <td>summary</td>\n",
       "      <td>count</td>\n",
       "      <td>mean</td>\n",
       "      <td>stddev</td>\n",
       "      <td>min</td>\n",
       "      <td>max</td>\n",
       "    </tr>\n",
       "    <tr>\n",
       "      <td>fixed acidity</td>\n",
       "      <td>1599</td>\n",
       "      <td>8.319637273295838</td>\n",
       "      <td>1.7410963181276948</td>\n",
       "      <td>10.000</td>\n",
       "      <td>9.900</td>\n",
       "    </tr>\n",
       "    <tr>\n",
       "      <td>volatile acidity</td>\n",
       "      <td>1599</td>\n",
       "      <td>0.5278205128205131</td>\n",
       "      <td>0.17905970415353525</td>\n",
       "      <td>0.120</td>\n",
       "      <td>1.580</td>\n",
       "    </tr>\n",
       "    <tr>\n",
       "      <td>citric acid</td>\n",
       "      <td>1599</td>\n",
       "      <td>0.2709756097560964</td>\n",
       "      <td>0.19480113740531824</td>\n",
       "      <td>0.000</td>\n",
       "      <td>1.000</td>\n",
       "    </tr>\n",
       "    <tr>\n",
       "      <td>residual sugar</td>\n",
       "      <td>1599</td>\n",
       "      <td>2.5388055034396517</td>\n",
       "      <td>1.40992805950728</td>\n",
       "      <td>0.900</td>\n",
       "      <td>9.000</td>\n",
       "    </tr>\n",
       "    <tr>\n",
       "      <td>chlorides</td>\n",
       "      <td>1599</td>\n",
       "      <td>0.08746654158849257</td>\n",
       "      <td>0.047065302010090085</td>\n",
       "      <td>0.012</td>\n",
       "      <td>0.611</td>\n",
       "    </tr>\n",
       "    <tr>\n",
       "      <td>free sulfur dioxide</td>\n",
       "      <td>1599</td>\n",
       "      <td>15.874921826141339</td>\n",
       "      <td>10.46015696980971</td>\n",
       "      <td>1.000</td>\n",
       "      <td>9.000</td>\n",
       "    </tr>\n",
       "    <tr>\n",
       "      <td>total sulfur dioxide</td>\n",
       "      <td>1599</td>\n",
       "      <td>46.46779237023139</td>\n",
       "      <td>32.89532447829907</td>\n",
       "      <td>10.000</td>\n",
       "      <td>99.000</td>\n",
       "    </tr>\n",
       "    <tr>\n",
       "      <td>density</td>\n",
       "      <td>1599</td>\n",
       "      <td>0.9967517198248945</td>\n",
       "      <td>0.0018906979941762342</td>\n",
       "      <td>0.990</td>\n",
       "      <td>1.004</td>\n",
       "    </tr>\n",
       "    <tr>\n",
       "      <td>pH</td>\n",
       "      <td>1599</td>\n",
       "      <td>3.311113195747343</td>\n",
       "      <td>0.15438646490354271</td>\n",
       "      <td>2.740</td>\n",
       "      <td>4.010</td>\n",
       "    </tr>\n",
       "    <tr>\n",
       "      <td>sulphates</td>\n",
       "      <td>1599</td>\n",
       "      <td>0.6581488430268921</td>\n",
       "      <td>0.1695069795901101</td>\n",
       "      <td>0.330</td>\n",
       "      <td>2.000</td>\n",
       "    </tr>\n",
       "    <tr>\n",
       "      <td>alcohol</td>\n",
       "      <td>1599</td>\n",
       "      <td>10.4229831144465</td>\n",
       "      <td>1.0656685411700977</td>\n",
       "      <td>10.000</td>\n",
       "      <td>9.950</td>\n",
       "    </tr>\n",
       "    <tr>\n",
       "      <td>quality</td>\n",
       "      <td>1599</td>\n",
       "      <td>5.6360225140712945</td>\n",
       "      <td>0.8075694397347051</td>\n",
       "      <td>3.000</td>\n",
       "      <td>8.000</td>\n",
       "    </tr>\n",
       "  </tbody>\n",
       "</table>\n",
       "</div>"
      ],
      "text/plain": [
       "                          0                    1                      2  \\\n",
       "summary               count                 mean                 stddev   \n",
       "fixed acidity          1599    8.319637273295838     1.7410963181276948   \n",
       "volatile acidity       1599   0.5278205128205131    0.17905970415353525   \n",
       "citric acid            1599   0.2709756097560964    0.19480113740531824   \n",
       "residual sugar         1599   2.5388055034396517       1.40992805950728   \n",
       "chlorides              1599  0.08746654158849257   0.047065302010090085   \n",
       "free sulfur dioxide    1599   15.874921826141339      10.46015696980971   \n",
       "total sulfur dioxide   1599    46.46779237023139      32.89532447829907   \n",
       "density                1599   0.9967517198248945  0.0018906979941762342   \n",
       "pH                     1599    3.311113195747343    0.15438646490354271   \n",
       "sulphates              1599   0.6581488430268921     0.1695069795901101   \n",
       "alcohol                1599     10.4229831144465     1.0656685411700977   \n",
       "quality                1599   5.6360225140712945     0.8075694397347051   \n",
       "\n",
       "                           3       4  \n",
       "summary                  min     max  \n",
       "fixed acidity         10.000   9.900  \n",
       "volatile acidity       0.120   1.580  \n",
       "citric acid            0.000   1.000  \n",
       "residual sugar         0.900   9.000  \n",
       "chlorides              0.012   0.611  \n",
       "free sulfur dioxide    1.000   9.000  \n",
       "total sulfur dioxide  10.000  99.000  \n",
       "density                0.990   1.004  \n",
       "pH                     2.740   4.010  \n",
       "sulphates              0.330   2.000  \n",
       "alcohol               10.000   9.950  \n",
       "quality                3.000   8.000  "
      ]
     },
     "execution_count": 6,
     "metadata": {},
     "output_type": "execute_result"
    }
   ],
   "source": [
    "df.describe().toPandas().transpose()"
   ]
  },
  {
   "cell_type": "code",
   "execution_count": 7,
   "metadata": {},
   "outputs": [
    {
     "name": "stdout",
     "output_type": "stream",
     "text": [
      "root\n",
      " |-- fixed acidity: string (nullable = true)\n",
      " |-- volatile acidity: string (nullable = true)\n",
      " |-- citric acid: string (nullable = true)\n",
      " |-- residual sugar: string (nullable = true)\n",
      " |-- chlorides: string (nullable = true)\n",
      " |-- free sulfur dioxide: string (nullable = true)\n",
      " |-- total sulfur dioxide: string (nullable = true)\n",
      " |-- density: string (nullable = true)\n",
      " |-- pH: string (nullable = true)\n",
      " |-- sulphates: string (nullable = true)\n",
      " |-- alcohol: string (nullable = true)\n",
      " |-- quality: string (nullable = true)\n",
      "\n"
     ]
    }
   ],
   "source": [
    "df.printSchema()"
   ]
  },
  {
   "cell_type": "markdown",
   "metadata": {},
   "source": [
    "Converting my string feilds to double type"
   ]
  },
  {
   "cell_type": "code",
   "execution_count": 8,
   "metadata": {},
   "outputs": [],
   "source": [
    "from pyspark.sql.types import IntegerType\n",
    "from pyspark.sql.types import       DoubleType, StructField,IntegerType, StructType,StringType\n",
    "newDF=[StructField('fixed acidity',DoubleType(),True),\n",
    "       StructField('volatile acidity',DoubleType(),True),\n",
    "       StructField('citric acid',DoubleType(),True),\n",
    "       StructField('residual sugar',DoubleType(),True),\n",
    "       StructField('chlorides',DoubleType(),True),\n",
    "       StructField('free sulfur dioxide',DoubleType(),True),\n",
    "       StructField('total sulfur dioxide',DoubleType(),True),\n",
    "       StructField('density',DoubleType(),True),\n",
    "       StructField('pH',DoubleType(),True),\n",
    "       StructField('sulphates',DoubleType(),True),\n",
    "       StructField('alcohol',DoubleType(),True),\n",
    "       StructField('quality',DoubleType(),True)\n",
    "      \n",
    "       ]\n",
    "finalStruct=StructType(fields=newDF)\n",
    "df=spark.read.csv('winequality-red.csv',header=True,schema=finalStruct)"
   ]
  },
  {
   "cell_type": "code",
   "execution_count": 10,
   "metadata": {},
   "outputs": [
    {
     "name": "stdout",
     "output_type": "stream",
     "text": [
      "root\n",
      " |-- fixed acidity: double (nullable = true)\n",
      " |-- volatile acidity: double (nullable = true)\n",
      " |-- citric acid: double (nullable = true)\n",
      " |-- residual sugar: double (nullable = true)\n",
      " |-- chlorides: double (nullable = true)\n",
      " |-- free sulfur dioxide: double (nullable = true)\n",
      " |-- total sulfur dioxide: double (nullable = true)\n",
      " |-- density: double (nullable = true)\n",
      " |-- pH: double (nullable = true)\n",
      " |-- sulphates: double (nullable = true)\n",
      " |-- alcohol: double (nullable = true)\n",
      " |-- quality: double (nullable = true)\n",
      "\n"
     ]
    }
   ],
   "source": [
    "df.printSchema()"
   ]
  },
  {
   "cell_type": "markdown",
   "metadata": {},
   "source": [
    "Extracting my X and Y variable using Vectoe Assembler"
   ]
  },
  {
   "cell_type": "code",
   "execution_count": 11,
   "metadata": {},
   "outputs": [],
   "source": [
    "from pyspark.ml.feature import VectorAssembler\n",
    "assembler = VectorAssembler(inputCols=[\"fixed acidity\",\"volatile acidity\",\"citric acid\",\"residual sugar\",\"chlorides\",\"free sulfur dioxide\",\"total sulfur dioxide\",\"density\",\"pH\",\"sulphates\",\"alcohol\"],\n",
    "                            outputCol=\"features\")\n",
    "feature_vec=assembler.transform(df)\n",
    "\n",
    "\n"
   ]
  },
  {
   "cell_type": "code",
   "execution_count": 12,
   "metadata": {
    "scrolled": true
   },
   "outputs": [
    {
     "data": {
      "text/plain": [
       "DataFrame[features: vector]"
      ]
     },
     "execution_count": 12,
     "metadata": {},
     "output_type": "execute_result"
    }
   ],
   "source": [
    "feature_vec.select(\"features\")"
   ]
  },
  {
   "cell_type": "code",
   "execution_count": 13,
   "metadata": {},
   "outputs": [],
   "source": [
    "# Split the data into train and test sets\n",
    "train_data, test_data = feature_vec.randomSplit([.75,.25],seed=0)"
   ]
  },
  {
   "cell_type": "code",
   "execution_count": 14,
   "metadata": {},
   "outputs": [
    {
     "name": "stdout",
     "output_type": "stream",
     "text": [
      "root\n",
      " |-- fixed acidity: double (nullable = true)\n",
      " |-- volatile acidity: double (nullable = true)\n",
      " |-- citric acid: double (nullable = true)\n",
      " |-- residual sugar: double (nullable = true)\n",
      " |-- chlorides: double (nullable = true)\n",
      " |-- free sulfur dioxide: double (nullable = true)\n",
      " |-- total sulfur dioxide: double (nullable = true)\n",
      " |-- density: double (nullable = true)\n",
      " |-- pH: double (nullable = true)\n",
      " |-- sulphates: double (nullable = true)\n",
      " |-- alcohol: double (nullable = true)\n",
      " |-- quality: double (nullable = true)\n",
      " |-- features: vector (nullable = true)\n",
      " |-- rawPrediction: vector (nullable = true)\n",
      " |-- probability: vector (nullable = true)\n",
      " |-- prediction: double (nullable = true)\n",
      "\n"
     ]
    }
   ],
   "source": [
    "from pyspark.ml.classification import LogisticRegression\n",
    "\n",
    "# Create initial LogisticRegression model\n",
    "lr = LogisticRegression(labelCol=\"quality\", featuresCol=\"features\",  \n",
    "                        maxIter=100, regParam=0.0001, family=\"multinomial\",  \n",
    "                        elasticNetParam=0.0)\n",
    "\n",
    "# Train model with Training Data\n",
    "lrModel = lr.fit(train_data)\n",
    "predictions = lrModel.transform(test_data)\n",
    "predictions.printSchema()"
   ]
  },
  {
   "cell_type": "code",
   "execution_count": 15,
   "metadata": {},
   "outputs": [],
   "source": [
    "# Train model with Training Data\n",
    "lrModel = lr.fit(train_data)\n"
   ]
  },
  {
   "cell_type": "code",
   "execution_count": 16,
   "metadata": {},
   "outputs": [
    {
     "name": "stdout",
     "output_type": "stream",
     "text": [
      "root\n",
      " |-- fixed acidity: double (nullable = true)\n",
      " |-- volatile acidity: double (nullable = true)\n",
      " |-- citric acid: double (nullable = true)\n",
      " |-- residual sugar: double (nullable = true)\n",
      " |-- chlorides: double (nullable = true)\n",
      " |-- free sulfur dioxide: double (nullable = true)\n",
      " |-- total sulfur dioxide: double (nullable = true)\n",
      " |-- density: double (nullable = true)\n",
      " |-- pH: double (nullable = true)\n",
      " |-- sulphates: double (nullable = true)\n",
      " |-- alcohol: double (nullable = true)\n",
      " |-- quality: double (nullable = true)\n",
      " |-- features: vector (nullable = true)\n",
      " |-- rawPrediction: vector (nullable = true)\n",
      " |-- probability: vector (nullable = true)\n",
      " |-- prediction: double (nullable = true)\n",
      "\n"
     ]
    }
   ],
   "source": [
    "predictions = lrModel.transform(test_data)\n",
    "predictions.printSchema()"
   ]
  },
  {
   "cell_type": "code",
   "execution_count": 17,
   "metadata": {},
   "outputs": [
    {
     "name": "stdout",
     "output_type": "stream",
     "text": [
      "+-------+----------+\n",
      "|quality|prediction|\n",
      "+-------+----------+\n",
      "|    4.0|       6.0|\n",
      "|    6.0|       7.0|\n",
      "|    8.0|       7.0|\n",
      "|    5.0|       5.0|\n",
      "|    7.0|       6.0|\n",
      "|    6.0|       6.0|\n",
      "|    7.0|       6.0|\n",
      "|    5.0|       6.0|\n",
      "|    7.0|       6.0|\n",
      "|    5.0|       6.0|\n",
      "|    8.0|       6.0|\n",
      "|    6.0|       6.0|\n",
      "|    6.0|       6.0|\n",
      "|    6.0|       6.0|\n",
      "|    5.0|       5.0|\n",
      "|    5.0|       5.0|\n",
      "|    6.0|       6.0|\n",
      "|    6.0|       5.0|\n",
      "|    6.0|       6.0|\n",
      "|    5.0|       5.0|\n",
      "+-------+----------+\n",
      "only showing top 20 rows\n",
      "\n"
     ]
    }
   ],
   "source": [
    "predictions.select('quality','prediction').show()"
   ]
  },
  {
   "cell_type": "code",
   "execution_count": 18,
   "metadata": {},
   "outputs": [
    {
     "data": {
      "text/plain": [
       "0.5725593667546174"
      ]
     },
     "execution_count": 18,
     "metadata": {},
     "output_type": "execute_result"
    }
   ],
   "source": [
    "from pyspark.ml.evaluation import MulticlassClassificationEvaluator\n",
    "\n",
    "evaluator = MulticlassClassificationEvaluator(predictionCol='prediction', labelCol='quality', metricName='accuracy')\n",
    "evaluator.evaluate(predictions)"
   ]
  },
  {
   "cell_type": "code",
   "execution_count": 19,
   "metadata": {},
   "outputs": [
    {
     "data": {
      "text/plain": [
       "0.5365761408221408"
      ]
     },
     "execution_count": 19,
     "metadata": {},
     "output_type": "execute_result"
    }
   ],
   "source": [
    "evaluator = MulticlassClassificationEvaluator(predictionCol='prediction', labelCol='quality', metricName='f1')\n",
    "evaluator.evaluate(predictions)"
   ]
  },
  {
   "cell_type": "code",
   "execution_count": 20,
   "metadata": {},
   "outputs": [
    {
     "name": "stdout",
     "output_type": "stream",
     "text": [
      "+-------+-----+\n",
      "|quality|count|\n",
      "+-------+-----+\n",
      "|    8.0|    2|\n",
      "|    7.0|   55|\n",
      "|    4.0|   11|\n",
      "|    3.0|    1|\n",
      "|    6.0|  160|\n",
      "|    5.0|  150|\n",
      "+-------+-----+\n",
      "\n"
     ]
    }
   ],
   "source": [
    "predictions.groupBy('quality').count().show()"
   ]
  },
  {
   "cell_type": "markdown",
   "metadata": {},
   "source": [
    "From the above Logistics model model we can see that Accuracy score is 53, In the next step we are going to do Grid search to see hyper tunned results for the model"
   ]
  },
  {
   "cell_type": "code",
   "execution_count": 21,
   "metadata": {},
   "outputs": [],
   "source": [
    "#Grid Search\n",
    "from pyspark.ml.tuning import ParamGridBuilder, CrossValidator\n",
    "\n",
    "paramGrid = (ParamGridBuilder()\\\n",
    "             .addGrid(lr.regParam,[0.001,0.01,0.1,1])\\\n",
    "             .addGrid(lr.elasticNetParam,[0.0,0.5,1.0])\\\n",
    "             .build())\n",
    "\n",
    "# Create 4-fold CrossValidator\n",
    "cv = CrossValidator(estimator=lr, estimatorParamMaps=paramGrid, evaluator=evaluator, numFolds=4)\n",
    "\n",
    "cvModel = cv.fit(train_data)"
   ]
  },
  {
   "cell_type": "code",
   "execution_count": 22,
   "metadata": {},
   "outputs": [
    {
     "data": {
      "text/plain": [
       "[(0.5908128356912047,\n",
       "  {Param(parent='LogisticRegression_433fa381ab7c7d2304c9', name='regParam', doc='regularization parameter (>= 0).'): 0.001,\n",
       "   Param(parent='LogisticRegression_433fa381ab7c7d2304c9', name='elasticNetParam', doc='the ElasticNet mixing parameter, in range [0, 1]. For alpha = 0, the penalty is an L2 penalty. For alpha = 1, it is an L1 penalty.'): 0.0}),\n",
       " (0.5520092249437069,\n",
       "  {Param(parent='LogisticRegression_433fa381ab7c7d2304c9', name='regParam', doc='regularization parameter (>= 0).'): 0.001,\n",
       "   Param(parent='LogisticRegression_433fa381ab7c7d2304c9', name='elasticNetParam', doc='the ElasticNet mixing parameter, in range [0, 1]. For alpha = 0, the penalty is an L2 penalty. For alpha = 1, it is an L1 penalty.'): 0.5}),\n",
       " (0.5440181922370475,\n",
       "  {Param(parent='LogisticRegression_433fa381ab7c7d2304c9', name='regParam', doc='regularization parameter (>= 0).'): 0.001,\n",
       "   Param(parent='LogisticRegression_433fa381ab7c7d2304c9', name='elasticNetParam', doc='the ElasticNet mixing parameter, in range [0, 1]. For alpha = 0, the penalty is an L2 penalty. For alpha = 1, it is an L1 penalty.'): 1.0}),\n",
       " (0.5733533583324697,\n",
       "  {Param(parent='LogisticRegression_433fa381ab7c7d2304c9', name='regParam', doc='regularization parameter (>= 0).'): 0.01,\n",
       "   Param(parent='LogisticRegression_433fa381ab7c7d2304c9', name='elasticNetParam', doc='the ElasticNet mixing parameter, in range [0, 1]. For alpha = 0, the penalty is an L2 penalty. For alpha = 1, it is an L1 penalty.'): 0.0}),\n",
       " (0.547580718003684,\n",
       "  {Param(parent='LogisticRegression_433fa381ab7c7d2304c9', name='regParam', doc='regularization parameter (>= 0).'): 0.01,\n",
       "   Param(parent='LogisticRegression_433fa381ab7c7d2304c9', name='elasticNetParam', doc='the ElasticNet mixing parameter, in range [0, 1]. For alpha = 0, the penalty is an L2 penalty. For alpha = 1, it is an L1 penalty.'): 0.5}),\n",
       " (0.5501908815493759,\n",
       "  {Param(parent='LogisticRegression_433fa381ab7c7d2304c9', name='regParam', doc='regularization parameter (>= 0).'): 0.01,\n",
       "   Param(parent='LogisticRegression_433fa381ab7c7d2304c9', name='elasticNetParam', doc='the ElasticNet mixing parameter, in range [0, 1]. For alpha = 0, the penalty is an L2 penalty. For alpha = 1, it is an L1 penalty.'): 1.0}),\n",
       " (0.5370336657945609,\n",
       "  {Param(parent='LogisticRegression_433fa381ab7c7d2304c9', name='regParam', doc='regularization parameter (>= 0).'): 0.1,\n",
       "   Param(parent='LogisticRegression_433fa381ab7c7d2304c9', name='elasticNetParam', doc='the ElasticNet mixing parameter, in range [0, 1]. For alpha = 0, the penalty is an L2 penalty. For alpha = 1, it is an L1 penalty.'): 0.0}),\n",
       " (0.5081462765344467,\n",
       "  {Param(parent='LogisticRegression_433fa381ab7c7d2304c9', name='regParam', doc='regularization parameter (>= 0).'): 0.1,\n",
       "   Param(parent='LogisticRegression_433fa381ab7c7d2304c9', name='elasticNetParam', doc='the ElasticNet mixing parameter, in range [0, 1]. For alpha = 0, the penalty is an L2 penalty. For alpha = 1, it is an L1 penalty.'): 0.5}),\n",
       " (0.49548165633384467,\n",
       "  {Param(parent='LogisticRegression_433fa381ab7c7d2304c9', name='regParam', doc='regularization parameter (>= 0).'): 0.1,\n",
       "   Param(parent='LogisticRegression_433fa381ab7c7d2304c9', name='elasticNetParam', doc='the ElasticNet mixing parameter, in range [0, 1]. For alpha = 0, the penalty is an L2 penalty. For alpha = 1, it is an L1 penalty.'): 1.0}),\n",
       " (0.4882233037200073,\n",
       "  {Param(parent='LogisticRegression_433fa381ab7c7d2304c9', name='regParam', doc='regularization parameter (>= 0).'): 1,\n",
       "   Param(parent='LogisticRegression_433fa381ab7c7d2304c9', name='elasticNetParam', doc='the ElasticNet mixing parameter, in range [0, 1]. For alpha = 0, the penalty is an L2 penalty. For alpha = 1, it is an L1 penalty.'): 0.0}),\n",
       " (0.2642598915326485,\n",
       "  {Param(parent='LogisticRegression_433fa381ab7c7d2304c9', name='regParam', doc='regularization parameter (>= 0).'): 1,\n",
       "   Param(parent='LogisticRegression_433fa381ab7c7d2304c9', name='elasticNetParam', doc='the ElasticNet mixing parameter, in range [0, 1]. For alpha = 0, the penalty is an L2 penalty. For alpha = 1, it is an L1 penalty.'): 0.5}),\n",
       " (0.2642598915326485,\n",
       "  {Param(parent='LogisticRegression_433fa381ab7c7d2304c9', name='regParam', doc='regularization parameter (>= 0).'): 1,\n",
       "   Param(parent='LogisticRegression_433fa381ab7c7d2304c9', name='elasticNetParam', doc='the ElasticNet mixing parameter, in range [0, 1]. For alpha = 0, the penalty is an L2 penalty. For alpha = 1, it is an L1 penalty.'): 1.0})]"
      ]
     },
     "execution_count": 22,
     "metadata": {},
     "output_type": "execute_result"
    }
   ],
   "source": [
    "list(zip(cvModel.avgMetrics, cvModel.getEstimatorParamMaps()))"
   ]
  },
  {
   "cell_type": "code",
   "execution_count": 23,
   "metadata": {},
   "outputs": [
    {
     "data": {
      "text/plain": [
       "(0.5908128356912047,\n",
       " {Param(parent='LogisticRegression_433fa381ab7c7d2304c9', name='regParam', doc='regularization parameter (>= 0).'): 0.001,\n",
       "  Param(parent='LogisticRegression_433fa381ab7c7d2304c9', name='elasticNetParam', doc='the ElasticNet mixing parameter, in range [0, 1]. For alpha = 0, the penalty is an L2 penalty. For alpha = 1, it is an L1 penalty.'): 0.0})"
      ]
     },
     "execution_count": 23,
     "metadata": {},
     "output_type": "execute_result"
    }
   ],
   "source": [
    "#Best Model Params\n",
    "score_params_list = list(zip(cvModel.avgMetrics, cvModel.getEstimatorParamMaps()))\n",
    "max(score_params_list,key=lambda item:item[0])"
   ]
  },
  {
   "cell_type": "code",
   "execution_count": 24,
   "metadata": {},
   "outputs": [],
   "source": [
    "predictions = cvModel.bestModel.transform(test_data)"
   ]
  },
  {
   "cell_type": "code",
   "execution_count": 25,
   "metadata": {},
   "outputs": [
    {
     "data": {
      "text/plain": [
       "0.5492386419193881"
      ]
     },
     "execution_count": 25,
     "metadata": {},
     "output_type": "execute_result"
    }
   ],
   "source": [
    "evaluator.evaluate(predictions)"
   ]
  },
  {
   "cell_type": "markdown",
   "metadata": {},
   "source": [
    "From the above Logistics regression  model we can see that Accuracy score using pyspark is 54.92 and accuracy score for same model using Sklearn is 59.75 for the dataset"
   ]
  }
 ],
 "metadata": {
  "kernelspec": {
   "display_name": "Python 3",
   "language": "python",
   "name": "python3"
  },
  "language_info": {
   "codemirror_mode": {
    "name": "ipython",
    "version": 3
   },
   "file_extension": ".py",
   "mimetype": "text/x-python",
   "name": "python",
   "nbconvert_exporter": "python",
   "pygments_lexer": "ipython3",
   "version": "3.6.8"
  },
  "toc": {
   "base_numbering": 1,
   "nav_menu": {},
   "number_sections": true,
   "sideBar": true,
   "skip_h1_title": false,
   "title_cell": "Table of Contents",
   "title_sidebar": "Contents",
   "toc_cell": false,
   "toc_position": {},
   "toc_section_display": true,
   "toc_window_display": false
  }
 },
 "nbformat": 4,
 "nbformat_minor": 2
}
