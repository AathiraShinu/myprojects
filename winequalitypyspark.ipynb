{
 "cells": [
  {
   "cell_type": "markdown",
   "metadata": {},
   "source": [
    "Importing Libariries to work on the project\n",
    "Setting the Directory"
   ]
  },
  {
   "cell_type": "code",
   "execution_count": 1,
   "metadata": {},
   "outputs": [],
   "source": [
    "import os\n",
    "import sys\n",
    " \n",
    "os.environ[\"SPARK_HOME\"] = \"/usr/hdp/current/spark2-client\"\n",
    "os.environ[\"PYLIB\"] = os.environ[\"SPARK_HOME\"] + \"/python/lib\"\n",
    "# In below two lines, use /usr/bin/python2.7 if you want to use Python 2\n",
    "os.environ[\"PYSPARK_PYTHON\"] = \"/usr/local/anaconda/bin/python\" \n",
    "os.environ[\"PYSPARK_DRIVER_PYTHON\"] = \"/usr/local/anaconda/bin/python\"\n",
    "sys.path.insert(0, os.environ[\"PYLIB\"] +\"/py4j-0.10.4-src.zip\")\n",
    "sys.path.insert(0, os.environ[\"PYLIB\"] +\"/pyspark.zip\")"
   ]
  },
  {
   "cell_type": "code",
   "execution_count": 2,
   "metadata": {},
   "outputs": [],
   "source": [
    "from pyspark.sql import SparkSession\n",
    "spark = SparkSession.builder.getOrCreate()"
   ]
  },
  {
   "cell_type": "markdown",
   "metadata": {},
   "source": [
    "Loading the file to do  Modelling"
   ]
  },
  {
   "cell_type": "code",
   "execution_count": 31,
   "metadata": {},
   "outputs": [],
   "source": [
    "df = spark.read.csv('data/insurance.csv',inferSchema=True,header=True)"
   ]
  },
  {
   "cell_type": "markdown",
   "metadata": {},
   "source": [
    "Dataset Description\n",
    "\n",
    "age: age of primary beneficiary\n",
    "\n",
    "sex: insurance contractor gender, female, male\n",
    "\n",
    "bmi: Body mass index, providing an understanding of body, weights that are relatively high or low relative to height, objective index of body weight (kg / m ^ 2) using the ratio of height to weight, ideally 18.5 to 24.9\n",
    "\n",
    "children: Number of children covered by health insurance / Number of dependents\n",
    "\n",
    "smoker: Smoking\n",
    "\n",
    "region: the beneficiary's residential area in the US, northeast, southeast, southwest, northwest.\n",
    "\n",
    "charges: Individual medical costs billed by health insurance - Target variable"
   ]
  },
  {
   "cell_type": "code",
   "execution_count": 32,
   "metadata": {},
   "outputs": [
    {
     "name": "stdout",
     "output_type": "stream",
     "text": [
      "+---+------+------+--------+------+---------+-----------+\n",
      "|age|   sex|   bmi|children|smoker|   region|    charges|\n",
      "+---+------+------+--------+------+---------+-----------+\n",
      "| 19|female|  27.9|       0|   yes|southwest|  16884.924|\n",
      "| 18|  male| 33.77|       1|    no|southeast|  1725.5523|\n",
      "| 28|  male|  33.0|       3|    no|southeast|   4449.462|\n",
      "| 33|  male|22.705|       0|    no|northwest|21984.47061|\n",
      "| 32|  male| 28.88|       0|    no|northwest|  3866.8552|\n",
      "| 31|female| 25.74|       0|    no|southeast|  3756.6216|\n",
      "| 46|female| 33.44|       1|    no|southeast|  8240.5896|\n",
      "| 37|female| 27.74|       3|    no|northwest|  7281.5056|\n",
      "| 37|  male| 29.83|       2|    no|northeast|  6406.4107|\n",
      "| 60|female| 25.84|       0|    no|northwest|28923.13692|\n",
      "| 25|  male| 26.22|       0|    no|northeast|  2721.3208|\n",
      "| 62|female| 26.29|       0|   yes|southeast| 27808.7251|\n",
      "| 23|  male|  34.4|       0|    no|southwest|   1826.843|\n",
      "| 56|female| 39.82|       0|    no|southeast| 11090.7178|\n",
      "| 27|  male| 42.13|       0|   yes|southeast| 39611.7577|\n",
      "| 19|  male|  24.6|       1|    no|southwest|   1837.237|\n",
      "| 52|female| 30.78|       1|    no|northeast| 10797.3362|\n",
      "| 23|  male|23.845|       0|    no|northeast| 2395.17155|\n",
      "| 56|  male|  40.3|       0|    no|southwest|  10602.385|\n",
      "| 30|  male|  35.3|       0|   yes|southwest|  36837.467|\n",
      "+---+------+------+--------+------+---------+-----------+\n",
      "only showing top 20 rows\n",
      "\n"
     ]
    }
   ],
   "source": [
    "df.show()"
   ]
  },
  {
   "cell_type": "code",
   "execution_count": 33,
   "metadata": {},
   "outputs": [
    {
     "name": "stdout",
     "output_type": "stream",
     "text": [
      "root\n",
      " |-- age: integer (nullable = true)\n",
      " |-- sex: string (nullable = true)\n",
      " |-- bmi: double (nullable = true)\n",
      " |-- children: integer (nullable = true)\n",
      " |-- smoker: string (nullable = true)\n",
      " |-- region: string (nullable = true)\n",
      " |-- charges: double (nullable = true)\n",
      "\n"
     ]
    }
   ],
   "source": [
    "df.printSchema()"
   ]
  },
  {
   "cell_type": "markdown",
   "metadata": {},
   "source": [
    "Checking for Null values in the dataset"
   ]
  },
  {
   "cell_type": "code",
   "execution_count": 5,
   "metadata": {},
   "outputs": [
    {
     "name": "stdout",
     "output_type": "stream",
     "text": [
      "no. of cells in column age with null values: 0\n",
      "no. of cells in column sex with null values: 0\n",
      "no. of cells in column bmi with null values: 0\n",
      "no. of cells in column children with null values: 0\n",
      "no. of cells in column smoker with null values: 0\n",
      "no. of cells in column region with null values: 0\n",
      "no. of cells in column charges with null values: 0\n"
     ]
    }
   ],
   "source": [
    "for col in df.columns:\n",
    "    print(\"no. of cells in column\", col, \"with null values:\", df.filter(df[col].isNull()).count())"
   ]
  },
  {
   "cell_type": "markdown",
   "metadata": {},
   "source": [
    "No null values in the dataset"
   ]
  },
  {
   "cell_type": "code",
   "execution_count": 6,
   "metadata": {},
   "outputs": [
    {
     "data": {
      "text/html": [
       "<div>\n",
       "<style scoped>\n",
       "    .dataframe tbody tr th:only-of-type {\n",
       "        vertical-align: middle;\n",
       "    }\n",
       "\n",
       "    .dataframe tbody tr th {\n",
       "        vertical-align: top;\n",
       "    }\n",
       "\n",
       "    .dataframe thead th {\n",
       "        text-align: right;\n",
       "    }\n",
       "</style>\n",
       "<table border=\"1\" class=\"dataframe\">\n",
       "  <thead>\n",
       "    <tr style=\"text-align: right;\">\n",
       "      <th></th>\n",
       "      <th>0</th>\n",
       "      <th>1</th>\n",
       "      <th>2</th>\n",
       "      <th>3</th>\n",
       "      <th>4</th>\n",
       "    </tr>\n",
       "  </thead>\n",
       "  <tbody>\n",
       "    <tr>\n",
       "      <td>summary</td>\n",
       "      <td>count</td>\n",
       "      <td>mean</td>\n",
       "      <td>stddev</td>\n",
       "      <td>min</td>\n",
       "      <td>max</td>\n",
       "    </tr>\n",
       "    <tr>\n",
       "      <td>age</td>\n",
       "      <td>1338</td>\n",
       "      <td>39.20702541106129</td>\n",
       "      <td>14.049960379216147</td>\n",
       "      <td>18</td>\n",
       "      <td>64</td>\n",
       "    </tr>\n",
       "    <tr>\n",
       "      <td>sex</td>\n",
       "      <td>1338</td>\n",
       "      <td>None</td>\n",
       "      <td>None</td>\n",
       "      <td>female</td>\n",
       "      <td>male</td>\n",
       "    </tr>\n",
       "    <tr>\n",
       "      <td>bmi</td>\n",
       "      <td>1338</td>\n",
       "      <td>30.663396860986538</td>\n",
       "      <td>6.098186911679012</td>\n",
       "      <td>15.96</td>\n",
       "      <td>53.13</td>\n",
       "    </tr>\n",
       "    <tr>\n",
       "      <td>children</td>\n",
       "      <td>1338</td>\n",
       "      <td>1.0949177877429</td>\n",
       "      <td>1.205492739781914</td>\n",
       "      <td>0</td>\n",
       "      <td>5</td>\n",
       "    </tr>\n",
       "    <tr>\n",
       "      <td>smoker</td>\n",
       "      <td>1338</td>\n",
       "      <td>None</td>\n",
       "      <td>None</td>\n",
       "      <td>no</td>\n",
       "      <td>yes</td>\n",
       "    </tr>\n",
       "    <tr>\n",
       "      <td>region</td>\n",
       "      <td>1338</td>\n",
       "      <td>None</td>\n",
       "      <td>None</td>\n",
       "      <td>northeast</td>\n",
       "      <td>southwest</td>\n",
       "    </tr>\n",
       "    <tr>\n",
       "      <td>charges</td>\n",
       "      <td>1338</td>\n",
       "      <td>13270.422265141257</td>\n",
       "      <td>12110.011236693992</td>\n",
       "      <td>10043.249</td>\n",
       "      <td>9991.03765</td>\n",
       "    </tr>\n",
       "  </tbody>\n",
       "</table>\n",
       "</div>"
      ],
      "text/plain": [
       "              0                   1                   2          3           4\n",
       "summary   count                mean              stddev        min         max\n",
       "age        1338   39.20702541106129  14.049960379216147         18          64\n",
       "sex        1338                None                None     female        male\n",
       "bmi        1338  30.663396860986538   6.098186911679012      15.96       53.13\n",
       "children   1338     1.0949177877429   1.205492739781914          0           5\n",
       "smoker     1338                None                None         no         yes\n",
       "region     1338                None                None  northeast   southwest\n",
       "charges    1338  13270.422265141257  12110.011236693992  10043.249  9991.03765"
      ]
     },
     "execution_count": 6,
     "metadata": {},
     "output_type": "execute_result"
    }
   ],
   "source": [
    "df.describe().toPandas().transpose()"
   ]
  },
  {
   "cell_type": "markdown",
   "metadata": {},
   "source": [
    "Encoding variables for model"
   ]
  },
  {
   "cell_type": "code",
   "execution_count": 35,
   "metadata": {},
   "outputs": [
    {
     "name": "stdout",
     "output_type": "stream",
     "text": [
      "+---+------+------+--------+------+---------+-----------+-----------+--------------+--------------+\n",
      "|age|   sex|   bmi|children|smoker|   region|    charges|sex_encoded|smoker_encoded|region_encoded|\n",
      "+---+------+------+--------+------+---------+-----------+-----------+--------------+--------------+\n",
      "| 19|female|  27.9|       0|   yes|southwest|  16884.924|        1.0|           1.0|           1.0|\n",
      "| 18|  male| 33.77|       1|    no|southeast|  1725.5523|        0.0|           0.0|           0.0|\n",
      "| 28|  male|  33.0|       3|    no|southeast|   4449.462|        0.0|           0.0|           0.0|\n",
      "| 33|  male|22.705|       0|    no|northwest|21984.47061|        0.0|           0.0|           2.0|\n",
      "| 32|  male| 28.88|       0|    no|northwest|  3866.8552|        0.0|           0.0|           2.0|\n",
      "| 31|female| 25.74|       0|    no|southeast|  3756.6216|        1.0|           0.0|           0.0|\n",
      "| 46|female| 33.44|       1|    no|southeast|  8240.5896|        1.0|           0.0|           0.0|\n",
      "| 37|female| 27.74|       3|    no|northwest|  7281.5056|        1.0|           0.0|           2.0|\n",
      "| 37|  male| 29.83|       2|    no|northeast|  6406.4107|        0.0|           0.0|           3.0|\n",
      "| 60|female| 25.84|       0|    no|northwest|28923.13692|        1.0|           0.0|           2.0|\n",
      "| 25|  male| 26.22|       0|    no|northeast|  2721.3208|        0.0|           0.0|           3.0|\n",
      "| 62|female| 26.29|       0|   yes|southeast| 27808.7251|        1.0|           1.0|           0.0|\n",
      "| 23|  male|  34.4|       0|    no|southwest|   1826.843|        0.0|           0.0|           1.0|\n",
      "| 56|female| 39.82|       0|    no|southeast| 11090.7178|        1.0|           0.0|           0.0|\n",
      "| 27|  male| 42.13|       0|   yes|southeast| 39611.7577|        0.0|           1.0|           0.0|\n",
      "| 19|  male|  24.6|       1|    no|southwest|   1837.237|        0.0|           0.0|           1.0|\n",
      "| 52|female| 30.78|       1|    no|northeast| 10797.3362|        1.0|           0.0|           3.0|\n",
      "| 23|  male|23.845|       0|    no|northeast| 2395.17155|        0.0|           0.0|           3.0|\n",
      "| 56|  male|  40.3|       0|    no|southwest|  10602.385|        0.0|           0.0|           1.0|\n",
      "| 30|  male|  35.3|       0|   yes|southwest|  36837.467|        0.0|           1.0|           1.0|\n",
      "+---+------+------+--------+------+---------+-----------+-----------+--------------+--------------+\n",
      "only showing top 20 rows\n",
      "\n"
     ]
    }
   ],
   "source": [
    "#Label encoder\n",
    "from pyspark.ml.feature import StringIndexer\n",
    "indexed = df\n",
    "for col in [\"sex\",\"smoker\",\"region\"]:\n",
    "    stringIndexer = StringIndexer(inputCol=col, outputCol=col+\"_encoded\")\n",
    "    indexed = stringIndexer.fit(indexed).transform(indexed)\n",
    "indexed.show()"
   ]
  },
  {
   "cell_type": "code",
   "execution_count": 36,
   "metadata": {},
   "outputs": [
    {
     "name": "stdout",
     "output_type": "stream",
     "text": [
      "+---+------+------+--------+------+---------+-----------+-----------+--------------+--------------+-------------+\n",
      "|age|   sex|   bmi|children|smoker|   region|    charges|sex_encoded|smoker_encoded|region_encoded|   region_vec|\n",
      "+---+------+------+--------+------+---------+-----------+-----------+--------------+--------------+-------------+\n",
      "| 19|female|  27.9|       0|   yes|southwest|  16884.924|        1.0|           1.0|           1.0|(3,[1],[1.0])|\n",
      "| 18|  male| 33.77|       1|    no|southeast|  1725.5523|        0.0|           0.0|           0.0|(3,[0],[1.0])|\n",
      "| 28|  male|  33.0|       3|    no|southeast|   4449.462|        0.0|           0.0|           0.0|(3,[0],[1.0])|\n",
      "| 33|  male|22.705|       0|    no|northwest|21984.47061|        0.0|           0.0|           2.0|(3,[2],[1.0])|\n",
      "| 32|  male| 28.88|       0|    no|northwest|  3866.8552|        0.0|           0.0|           2.0|(3,[2],[1.0])|\n",
      "| 31|female| 25.74|       0|    no|southeast|  3756.6216|        1.0|           0.0|           0.0|(3,[0],[1.0])|\n",
      "| 46|female| 33.44|       1|    no|southeast|  8240.5896|        1.0|           0.0|           0.0|(3,[0],[1.0])|\n",
      "| 37|female| 27.74|       3|    no|northwest|  7281.5056|        1.0|           0.0|           2.0|(3,[2],[1.0])|\n",
      "| 37|  male| 29.83|       2|    no|northeast|  6406.4107|        0.0|           0.0|           3.0|    (3,[],[])|\n",
      "| 60|female| 25.84|       0|    no|northwest|28923.13692|        1.0|           0.0|           2.0|(3,[2],[1.0])|\n",
      "| 25|  male| 26.22|       0|    no|northeast|  2721.3208|        0.0|           0.0|           3.0|    (3,[],[])|\n",
      "| 62|female| 26.29|       0|   yes|southeast| 27808.7251|        1.0|           1.0|           0.0|(3,[0],[1.0])|\n",
      "| 23|  male|  34.4|       0|    no|southwest|   1826.843|        0.0|           0.0|           1.0|(3,[1],[1.0])|\n",
      "| 56|female| 39.82|       0|    no|southeast| 11090.7178|        1.0|           0.0|           0.0|(3,[0],[1.0])|\n",
      "| 27|  male| 42.13|       0|   yes|southeast| 39611.7577|        0.0|           1.0|           0.0|(3,[0],[1.0])|\n",
      "| 19|  male|  24.6|       1|    no|southwest|   1837.237|        0.0|           0.0|           1.0|(3,[1],[1.0])|\n",
      "| 52|female| 30.78|       1|    no|northeast| 10797.3362|        1.0|           0.0|           3.0|    (3,[],[])|\n",
      "| 23|  male|23.845|       0|    no|northeast| 2395.17155|        0.0|           0.0|           3.0|    (3,[],[])|\n",
      "| 56|  male|  40.3|       0|    no|southwest|  10602.385|        0.0|           0.0|           1.0|(3,[1],[1.0])|\n",
      "| 30|  male|  35.3|       0|   yes|southwest|  36837.467|        0.0|           1.0|           1.0|(3,[1],[1.0])|\n",
      "+---+------+------+--------+------+---------+-----------+-----------+--------------+--------------+-------------+\n",
      "only showing top 20 rows\n",
      "\n"
     ]
    }
   ],
   "source": [
    "#One hot encoder\n",
    "from pyspark.ml.feature import OneHotEncoder\n",
    "encoder = OneHotEncoder(inputCol=\"region_encoded\",outputCol=\"region_vec\",dropLast=True)\n",
    "encoded = encoder.transform(indexed)\n",
    "encoded.show()"
   ]
  },
  {
   "cell_type": "markdown",
   "metadata": {},
   "source": [
    "Extracting the X and Y variables"
   ]
  },
  {
   "cell_type": "code",
   "execution_count": 38,
   "metadata": {},
   "outputs": [
    {
     "data": {
      "text/plain": [
       "['features', 'charges']"
      ]
     },
     "execution_count": 38,
     "metadata": {},
     "output_type": "execute_result"
    }
   ],
   "source": [
    "from pyspark.ml.feature import VectorAssembler\n",
    "assembler = VectorAssembler(inputCols=[\"age\",\"sex_encoded\",\"bmi\",\"children\",\"smoker_encoded\",\"region_vec\"],\n",
    "                            outputCol=\"features\")\n",
    "feature_vec=assembler.transform(encoded).select('features','charges')\n",
    "feature_vec.columns"
   ]
  },
  {
   "cell_type": "code",
   "execution_count": 39,
   "metadata": {},
   "outputs": [
    {
     "data": {
      "text/plain": [
       "DataFrame[features: vector]"
      ]
     },
     "execution_count": 39,
     "metadata": {},
     "output_type": "execute_result"
    }
   ],
   "source": [
    "feature_vec.select(\"features\")"
   ]
  },
  {
   "cell_type": "markdown",
   "metadata": {},
   "source": [
    "###### Split the data into train and test sets\n"
   ]
  },
  {
   "cell_type": "code",
   "execution_count": 40,
   "metadata": {},
   "outputs": [],
   "source": [
    "# Split the data into train and test sets\n",
    "train_data, test_data = feature_vec.randomSplit([.75,.25],seed=0)"
   ]
  },
  {
   "cell_type": "code",
   "execution_count": 47,
   "metadata": {},
   "outputs": [],
   "source": [
    "from pyspark.ml.regression import RandomForestRegressor\n",
    "rf = RandomForestRegressor(featuresCol = 'features',labelCol='charges',seed=0)"
   ]
  },
  {
   "cell_type": "code",
   "execution_count": 61,
   "metadata": {},
   "outputs": [],
   "source": [
    "from pyspark.ml.tuning import ParamGridBuilder\n",
    "import numpy as np\n",
    "paramGrid = ParamGridBuilder() \\\n",
    "    .addGrid(rf.numTrees, [int(x) for x in np.linspace(start = 10, stop = 31, num = 3)]) \\\n",
    "    .addGrid(rf.maxDepth, [int(x) for x in np.linspace(start = 5, stop = 16, num = 3)]) \\\n",
    "    .build()"
   ]
  },
  {
   "cell_type": "code",
   "execution_count": 65,
   "metadata": {},
   "outputs": [],
   "source": [
    "evaluator = RegressionEvaluator( labelCol='charges', metricName='r2')"
   ]
  },
  {
   "cell_type": "code",
   "execution_count": 66,
   "metadata": {},
   "outputs": [],
   "source": [
    "from pyspark.ml.tuning import CrossValidator\n",
    "from pyspark.ml.evaluation import   RegressionEvaluator\n",
    "cv = CrossValidator(estimator=rf,\n",
    "                          estimatorParamMaps=paramGrid,\n",
    "                          evaluator=evaluator,\n",
    "                          numFolds=3)\n",
    "\n"
   ]
  },
  {
   "cell_type": "code",
   "execution_count": 67,
   "metadata": {},
   "outputs": [],
   "source": [
    "\n",
    "cvModel = cv.fit(train_data)"
   ]
  },
  {
   "cell_type": "code",
   "execution_count": 68,
   "metadata": {},
   "outputs": [
    {
     "data": {
      "text/plain": [
       "(0.8479122579306009,\n",
       " {Param(parent='RandomForestRegressor_4545b460e98f24f1afa3', name='numTrees', doc='Number of trees to train (>= 1).'): 20,\n",
       "  Param(parent='RandomForestRegressor_4545b460e98f24f1afa3', name='maxDepth', doc='Maximum depth of the tree. (>= 0) E.g., depth 0 means 1 leaf node; depth 1 means 1 internal node + 2 leaf nodes.'): 16})"
      ]
     },
     "execution_count": 68,
     "metadata": {},
     "output_type": "execute_result"
    }
   ],
   "source": [
    "#Best Model Params\n",
    "score_params_list = list(zip(cvModel.avgMetrics, cvModel.getEstimatorParamMaps()))\n",
    "max(score_params_list,key=lambda item:item[0])"
   ]
  },
  {
   "cell_type": "code",
   "execution_count": 71,
   "metadata": {},
   "outputs": [
    {
     "data": {
      "text/plain": [
       "0.8145303265904511"
      ]
     },
     "execution_count": 71,
     "metadata": {},
     "output_type": "execute_result"
    }
   ],
   "source": [
    "predictions = cvModel.transform(test_data)\n",
    "evaluator.evaluate(predictions) "
   ]
  },
  {
   "cell_type": "markdown",
   "metadata": {},
   "source": [
    "From the Above Randonm Forest model we can see that R2  using pyspark is 81.45 and R2 for same model using Sklearn is 82.66 for the dataset "
   ]
  },
  {
   "cell_type": "code",
   "execution_count": null,
   "metadata": {},
   "outputs": [],
   "source": []
  }
 ],
 "metadata": {
  "kernelspec": {
   "display_name": "Python 3",
   "language": "python",
   "name": "python3"
  },
  "language_info": {
   "codemirror_mode": {
    "name": "ipython",
    "version": 3
   },
   "file_extension": ".py",
   "mimetype": "text/x-python",
   "name": "python",
   "nbconvert_exporter": "python",
   "pygments_lexer": "ipython3",
   "version": "3.6.8"
  },
  "toc": {
   "base_numbering": 1,
   "nav_menu": {},
   "number_sections": true,
   "sideBar": true,
   "skip_h1_title": false,
   "title_cell": "Table of Contents",
   "title_sidebar": "Contents",
   "toc_cell": false,
   "toc_position": {},
   "toc_section_display": true,
   "toc_window_display": false
  }
 },
 "nbformat": 4,
 "nbformat_minor": 2
}
